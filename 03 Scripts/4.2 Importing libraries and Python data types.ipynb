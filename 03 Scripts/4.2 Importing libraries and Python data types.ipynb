{
 "cells": [
  {
   "cell_type": "markdown",
   "id": "c70d0a0d-53bf-4281-86e0-d7ba8acec7cc",
   "metadata": {},
   "source": [
    "### Import Libraries"
   ]
  },
  {
   "cell_type": "code",
   "execution_count": 3,
   "id": "096bbafe-d67f-4d30-9c2b-b41a14ff1e11",
   "metadata": {},
   "outputs": [],
   "source": [
    "# Import libraries\n",
    "import pandas as pd\n",
    "import numpy as np\n",
    "import os"
   ]
  },
  {
   "cell_type": "markdown",
   "id": "4eb536ce-59e2-4e69-b328-f9c64a4cd305",
   "metadata": {},
   "source": [
    "### Tutorial bits"
   ]
  },
  {
   "cell_type": "code",
   "execution_count": 4,
   "id": "4979522c-a61a-4953-8c77-b5fee435338a",
   "metadata": {},
   "outputs": [],
   "source": [
    "x=2"
   ]
  },
  {
   "cell_type": "code",
   "execution_count": 5,
   "id": "302d25a4-8c26-44b3-ad54-94649fb3df9e",
   "metadata": {},
   "outputs": [
    {
     "data": {
      "text/plain": [
       "2"
      ]
     },
     "execution_count": 5,
     "metadata": {},
     "output_type": "execute_result"
    }
   ],
   "source": [
    "x"
   ]
  },
  {
   "cell_type": "code",
   "execution_count": 6,
   "id": "a814ce53-b9ae-4149-bfd2-e844981dfd62",
   "metadata": {},
   "outputs": [
    {
     "name": "stdout",
     "output_type": "stream",
     "text": [
      "2\n"
     ]
    }
   ],
   "source": [
    "print(x)"
   ]
  },
  {
   "cell_type": "code",
   "execution_count": 7,
   "id": "a80824d0-468e-4bf3-b8ab-41c93fa6ea5f",
   "metadata": {},
   "outputs": [
    {
     "data": {
      "text/plain": [
       "int"
      ]
     },
     "execution_count": 7,
     "metadata": {},
     "output_type": "execute_result"
    }
   ],
   "source": [
    "type(x)"
   ]
  },
  {
   "cell_type": "markdown",
   "id": "bd9ec072-b318-456e-865d-7c96c84908ca",
   "metadata": {},
   "source": [
    "### Task"
   ]
  },
  {
   "cell_type": "markdown",
   "id": "7c2c63bd-8772-4a5d-9074-1c2468780cfd",
   "metadata": {},
   "source": [
    "#### Reaching 100"
   ]
  },
  {
   "cell_type": "code",
   "execution_count": 9,
   "id": "484ac037-5f42-43e4-82f1-9eebfb751ce2",
   "metadata": {},
   "outputs": [],
   "source": [
    "x = 50 + 50\n",
    "y = 120 - 20\n",
    "z = 75 + 15 - 10 + 20"
   ]
  },
  {
   "cell_type": "code",
   "execution_count": 10,
   "id": "26b4d9ca-bab1-41d2-acd8-2dad2e94ec7e",
   "metadata": {},
   "outputs": [
    {
     "data": {
      "text/plain": [
       "100"
      ]
     },
     "execution_count": 10,
     "metadata": {},
     "output_type": "execute_result"
    }
   ],
   "source": [
    "x"
   ]
  },
  {
   "cell_type": "code",
   "execution_count": 11,
   "id": "5fb683d5-f9db-4239-bde6-eef47e16b228",
   "metadata": {},
   "outputs": [
    {
     "data": {
      "text/plain": [
       "100"
      ]
     },
     "execution_count": 11,
     "metadata": {},
     "output_type": "execute_result"
    }
   ],
   "source": [
    "y"
   ]
  },
  {
   "cell_type": "code",
   "execution_count": 12,
   "id": "4ec01c07-6c60-430d-8197-89a4be5f0143",
   "metadata": {},
   "outputs": [
    {
     "data": {
      "text/plain": [
       "100"
      ]
     },
     "execution_count": 12,
     "metadata": {},
     "output_type": "execute_result"
    }
   ],
   "source": [
    "z"
   ]
  },
  {
   "cell_type": "markdown",
   "id": "2445ac92-8b9d-4945-ba8b-d40ebcdc449e",
   "metadata": {},
   "source": [
    "#### Floating-point variables"
   ]
  },
  {
   "cell_type": "code",
   "execution_count": 13,
   "id": "d01e621b-9d4e-48f7-bab1-ec6ed94f884f",
   "metadata": {},
   "outputs": [],
   "source": [
    "x = 3.14\n",
    "y = 2.0\n",
    "z = x / y"
   ]
  },
  {
   "cell_type": "code",
   "execution_count": 14,
   "id": "aa1e92e5-a76c-445e-9e6b-44b9753486fb",
   "metadata": {},
   "outputs": [
    {
     "data": {
      "text/plain": [
       "1.57"
      ]
     },
     "execution_count": 14,
     "metadata": {},
     "output_type": "execute_result"
    }
   ],
   "source": [
    "z"
   ]
  },
  {
   "cell_type": "markdown",
   "id": "01187f1b-870a-4d0d-88f3-b51323bbb7d1",
   "metadata": {},
   "source": [
    "#### Concatenate"
   ]
  },
  {
   "cell_type": "code",
   "execution_count": 36,
   "id": "ca231e81-9766-4792-bc34-45f726f21184",
   "metadata": {},
   "outputs": [],
   "source": [
    "# Concatenate strings\n",
    "word = \"mega\" + \"-\" + \"happy\""
   ]
  },
  {
   "cell_type": "code",
   "execution_count": 38,
   "id": "5dd8cf8d-947f-4c2d-b714-056db784cd06",
   "metadata": {},
   "outputs": [
    {
     "data": {
      "text/plain": [
       "'mega-happy'"
      ]
     },
     "execution_count": 38,
     "metadata": {},
     "output_type": "execute_result"
    }
   ],
   "source": [
    "word"
   ]
  },
  {
   "cell_type": "code",
   "execution_count": 40,
   "id": "a453e2bb-01c5-4623-a7a8-efd71688ef24",
   "metadata": {},
   "outputs": [],
   "source": [
    "# Sentences\n",
    "sentence1 = 'Halima is' + ' awesome!' #Should this have parenthesis? If so, double or single??\n",
    "sentence2 = 'Deb is' + ' enjoying Python.'"
   ]
  },
  {
   "cell_type": "code",
   "execution_count": 42,
   "id": "da10d4d4-20bb-426e-adee-039f8ecdd0b4",
   "metadata": {},
   "outputs": [
    {
     "data": {
      "text/plain": [
       "'Halima is awesome!'"
      ]
     },
     "execution_count": 42,
     "metadata": {},
     "output_type": "execute_result"
    }
   ],
   "source": [
    "sentence1"
   ]
  },
  {
   "cell_type": "code",
   "execution_count": 44,
   "id": "65c71d16-141c-4fd0-be1d-e39bab0b0939",
   "metadata": {},
   "outputs": [
    {
     "data": {
      "text/plain": [
       "'Deb is enjoying Python.'"
      ]
     },
     "execution_count": 44,
     "metadata": {},
     "output_type": "execute_result"
    }
   ],
   "source": [
    "sentence2"
   ]
  },
  {
   "cell_type": "code",
   "execution_count": null,
   "id": "57eb065c-e0e1-45dd-9ee4-463810f21314",
   "metadata": {},
   "outputs": [],
   "source": []
  }
 ],
 "metadata": {
  "kernelspec": {
   "display_name": "Python 3 (ipykernel)",
   "language": "python",
   "name": "python3"
  },
  "language_info": {
   "codemirror_mode": {
    "name": "ipython",
    "version": 3
   },
   "file_extension": ".py",
   "mimetype": "text/x-python",
   "name": "python",
   "nbconvert_exporter": "python",
   "pygments_lexer": "ipython3",
   "version": "3.11.7"
  }
 },
 "nbformat": 4,
 "nbformat_minor": 5
}
